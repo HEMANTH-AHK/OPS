{
 "cells": [
  {
   "cell_type": "markdown",
   "id": "5086404d",
   "metadata": {},
   "source": [
    "# PACF Dataset Analysis\n",
    "This notebook includes preprocessing, model training, and SHAP analysis."
   ]
  },
  {
   "cell_type": "code",
   "execution_count": 2,
   "id": "873b16d7",
   "metadata": {},
   "outputs": [
    {
     "name": "stdout",
     "output_type": "stream",
     "text": [
      "Collecting shap\n",
      "  Downloading shap-0.48.0-cp311-cp311-win_amd64.whl.metadata (25 kB)\n",
      "Requirement already satisfied: numpy in d:\\modelling\\.conda\\lib\\site-packages (from shap) (1.26.4)\n",
      "Requirement already satisfied: scipy in d:\\modelling\\.conda\\lib\\site-packages (from shap) (1.11.4)\n",
      "Requirement already satisfied: scikit-learn in d:\\modelling\\.conda\\lib\\site-packages (from shap) (1.4.2)\n",
      "Requirement already satisfied: pandas in d:\\modelling\\.conda\\lib\\site-packages (from shap) (2.1.4)\n",
      "Requirement already satisfied: tqdm>=4.27.0 in d:\\modelling\\.conda\\lib\\site-packages (from shap) (4.67.1)\n",
      "Requirement already satisfied: packaging>20.9 in d:\\modelling\\.conda\\lib\\site-packages (from shap) (24.2)\n",
      "Collecting slicer==0.0.8 (from shap)\n",
      "  Using cached slicer-0.0.8-py3-none-any.whl.metadata (4.0 kB)\n",
      "Requirement already satisfied: numba>=0.54 in d:\\modelling\\.conda\\lib\\site-packages (from shap) (0.60.0)\n",
      "Requirement already satisfied: cloudpickle in d:\\modelling\\.conda\\lib\\site-packages (from shap) (3.1.0)\n",
      "Requirement already satisfied: typing-extensions in d:\\modelling\\.conda\\lib\\site-packages (from shap) (4.13.2)\n",
      "Requirement already satisfied: llvmlite<0.44,>=0.43.0dev0 in d:\\modelling\\.conda\\lib\\site-packages (from numba>=0.54->shap) (0.43.0)\n",
      "Requirement already satisfied: colorama in d:\\modelling\\.conda\\lib\\site-packages (from tqdm>=4.27.0->shap) (0.4.6)\n",
      "Requirement already satisfied: python-dateutil>=2.8.2 in d:\\modelling\\.conda\\lib\\site-packages (from pandas->shap) (2.9.0.post0)\n",
      "Requirement already satisfied: pytz>=2020.1 in d:\\modelling\\.conda\\lib\\site-packages (from pandas->shap) (2024.2)\n",
      "Requirement already satisfied: tzdata>=2022.1 in d:\\modelling\\.conda\\lib\\site-packages (from pandas->shap) (2024.2)\n",
      "Requirement already satisfied: joblib>=1.2.0 in d:\\modelling\\.conda\\lib\\site-packages (from scikit-learn->shap) (1.3.2)\n",
      "Requirement already satisfied: threadpoolctl>=2.0.0 in d:\\modelling\\.conda\\lib\\site-packages (from scikit-learn->shap) (3.5.0)\n",
      "Requirement already satisfied: six>=1.5 in d:\\modelling\\.conda\\lib\\site-packages (from python-dateutil>=2.8.2->pandas->shap) (1.17.0)\n",
      "Downloading shap-0.48.0-cp311-cp311-win_amd64.whl (544 kB)\n",
      "   ---------------------------------------- 0.0/544.4 kB ? eta -:--:--\n",
      "   ---------------------------------------- 0.0/544.4 kB ? eta -:--:--\n",
      "   ------------------- -------------------- 262.1/544.4 kB ? eta -:--:--\n",
      "   -------------------------------------- 544.4/544.4 kB 860.6 kB/s eta 0:00:00\n",
      "Using cached slicer-0.0.8-py3-none-any.whl (15 kB)\n",
      "Installing collected packages: slicer, shap\n",
      "Successfully installed shap-0.48.0 slicer-0.0.8\n",
      "Note: you may need to restart the kernel to use updated packages.\n"
     ]
    }
   ],
   "source": [
    "pip install shap --index-url https://pypi.org/simple"
   ]
  },
  {
   "cell_type": "code",
   "execution_count": 1,
   "id": "cb5317c0",
   "metadata": {},
   "outputs": [
    {
     "data": {
      "text/html": [
       "<div>\n",
       "<style scoped>\n",
       "    .dataframe tbody tr th:only-of-type {\n",
       "        vertical-align: middle;\n",
       "    }\n",
       "\n",
       "    .dataframe tbody tr th {\n",
       "        vertical-align: top;\n",
       "    }\n",
       "\n",
       "    .dataframe thead th {\n",
       "        text-align: right;\n",
       "    }\n",
       "</style>\n",
       "<table border=\"1\" class=\"dataframe\">\n",
       "  <thead>\n",
       "    <tr style=\"text-align: right;\">\n",
       "      <th></th>\n",
       "      <th>GO (%)</th>\n",
       "      <th>Steel Fiber (%)</th>\n",
       "      <th>SWM Dia (mm)</th>\n",
       "      <th>Trial</th>\n",
       "      <th>Initial Crack Load (kN)</th>\n",
       "      <th>Final Crack Load (kN)</th>\n",
       "    </tr>\n",
       "  </thead>\n",
       "  <tbody>\n",
       "    <tr>\n",
       "      <th>0</th>\n",
       "      <td>0.0</td>\n",
       "      <td>0</td>\n",
       "      <td>0</td>\n",
       "      <td>Trial 1</td>\n",
       "      <td>4</td>\n",
       "      <td>5</td>\n",
       "    </tr>\n",
       "    <tr>\n",
       "      <th>1</th>\n",
       "      <td>0.0</td>\n",
       "      <td>0</td>\n",
       "      <td>0</td>\n",
       "      <td>Trial 2</td>\n",
       "      <td>4</td>\n",
       "      <td>5</td>\n",
       "    </tr>\n",
       "    <tr>\n",
       "      <th>2</th>\n",
       "      <td>0.0</td>\n",
       "      <td>0</td>\n",
       "      <td>50</td>\n",
       "      <td>Trial 1</td>\n",
       "      <td>3</td>\n",
       "      <td>5</td>\n",
       "    </tr>\n",
       "    <tr>\n",
       "      <th>3</th>\n",
       "      <td>0.0</td>\n",
       "      <td>0</td>\n",
       "      <td>50</td>\n",
       "      <td>Trial 2</td>\n",
       "      <td>7</td>\n",
       "      <td>8</td>\n",
       "    </tr>\n",
       "    <tr>\n",
       "      <th>4</th>\n",
       "      <td>0.0</td>\n",
       "      <td>0</td>\n",
       "      <td>100</td>\n",
       "      <td>Trial 1</td>\n",
       "      <td>8</td>\n",
       "      <td>10</td>\n",
       "    </tr>\n",
       "  </tbody>\n",
       "</table>\n",
       "</div>"
      ],
      "text/plain": [
 " OPS_Replacement(%)	Fibre	Stress	Split	Flexure	Sorptivity \\\n",
 " 20	                   CO	38.0036	4.4347	4.3153	0.14        \n",
 " 20	                   HE	36.0356	4.2955	4.2021	0.13        \n",
 " 20	                   BA	30.7876	3.9084	3.8841	0.12        \n",
 " 20	                   KE	26.7860	3.5951	3.6229	0.11        \n",
 " 20	                   JU	32.7228	4.0540	4.0043	0.12        \n",
 " 20	                   FX	33.3460	4.1001	4.0422	0.15        \n",
 " 30	                   CO	33.0836	4.0807	4.0263	0.156        \n",
 " 30	                   HE	37.4296	4.3944	4.2826	0.168        \n",
 " 30	                   BA	28.6556	3.7437	3.7472	0.144        \n",
 " 30	                   KE	27.9340	3.6868	3.6997	0.132        \n",
 " 30	                   JU	25.0476	3.4533	3.5033	0.144        \n",
 " 30	                   FX	27.5240	3.6542	3.6724	0.180        \n",
 " 40	                   CO	28.5408	3.7346	3.7397	0.182        \n",
 " 40	                   HE	25.4740	3.4884	3.5330	0.169        \n",
 " 40	                   BA	26.9664	3.6096	3.6350	0.156        \n",
 " 40	                   KE	22.3908	3.2286	3.3123	0.143        \n",
 " 40                     	   JU	24.4572	3.4042	3.4618	0.156        \n",
 " 40	                   FX	19.6520	2.9855	3.1031	0.195        \n",
 " 50	                   CO	17.8316	2.8163	2.9559	0.196        \n",
 " 50	                   HE	26.8352	3.5991	3.6262	0.182        \n",
 " 50	                   BA	23.6208	3.3339	3.4021	0.168        \n",
 " 50	                   KE	22.7844	3.2625	3.3413	0.154        \n",
 " 50	                   JU	21.1116	3.1166	3.2163	0.168        \n",
 " 50	                   FX	19.8160	3.0004	3.1161	0.210        \n",
 " 60	                   CO	23.7028	3.3408	3.4080	0.224        \n",
 " 60	                   HE	24.1620	3.3795	3.4408	0.208        \n",
 " 60	                   BA	19.1600	2.9404	3.0640	0.192        \n",
 " 60	                   KE	22.0300	3.1973	3.2855	0.176        \n",
 " 60	                   JU	21.8168	3.1787	3.2696	0.192        \n",
 " 60	                   FX	20.0948	3.0257	3.1379	0.240        ",
      ]
     },
     "execution_count": 1,
     "metadata": {},
     "output_type": "execute_result"
    }
   ],
   "source": [
    "\n",
# Install required libraries (run only once)
# pip install pycaret shap matplotlib seaborn pandas scikit-learn

import pandas as pd
import shap
import matplotlib.pyplot as plt
import seaborn as sns
from pycaret.regression import *

# Load the dataset
df = pd.read_csv("EGC_Lightweight_Data.csv")

# List of target variables to train models for
targets = ['Stress', 'Split', 'Flexure', 'Sorptivity']

# Iterate through each target property
for target in targets:
    print(f"\n\n=========== MODEL TRAINING FOR: {target} ===========\n")

    # Set up PyCaret for this target
    reg = setup(
        data=df,
        target=target,
        categorical_features=['Fibre'],
        numeric_features=['OPS_Replacement(%)'],
        session_id=123,
        normalize=True,
        silent=True,
        verbose=False
    )

    # Compare all models and select the best
    best_model = compare_models()
    
    # Evaluate model
    evaluate_model(best_model)
    
    # Plot Feature Importance
    print(f"\nFeature importance for {target}:")
    plot_model(best_model, plot='feature')

    # Predict on full data for SHAP
    X = df.drop(columns=[target])
    print(f"\nGenerating SHAP analysis for {target}...")
    explainer = shap.Explainer(best_model.predict, X)
    shap_values = explainer(X)
    shap.summary_plot(shap_values, X)

    # Residual plot
    print(f"\nResidual plot for {target}:")
    plot_model(best_model, plot='residuals')

    # Learning curve
    print(f"\nLearning curve for {target}:")
    plot_model(best_model, plot='learning')

    # Print R2, RMSE, MAE
    predictions = predict_model(best_model)
    print(predictions[[target, 'Label']].head())